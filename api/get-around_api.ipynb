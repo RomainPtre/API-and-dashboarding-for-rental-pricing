{
 "cells": [
  {
   "cell_type": "code",
   "execution_count": 15,
   "metadata": {},
   "outputs": [],
   "source": [
    "from joblib import load\n",
    "import pandas as pd\n",
    "import uvicorn\n",
    "from fastapi import FastAPI\n",
    "from pydantic import BaseModel\n",
    "from typing import Union"
   ]
  },
  {
   "cell_type": "markdown",
   "metadata": {},
   "source": [
    "## Test API on local"
   ]
  },
  {
   "cell_type": "code",
   "execution_count": 3,
   "metadata": {},
   "outputs": [],
   "source": [
    "predictor = load('./model/model_reg.pkl')\n",
    "transformer = load('./model/transformer.pkl')"
   ]
  },
  {
   "cell_type": "code",
   "execution_count": 4,
   "metadata": {},
   "outputs": [],
   "source": [
    "test_input = {'model_key':'Citroën', \n",
    "              'mileage':77334, \n",
    "              'engine_power':256, \n",
    "              'fuel':'diesel', \n",
    "              'paint_color':'black', \n",
    "              'car_type':'coupe', \n",
    "              'private_parking_available':True, \n",
    "               'has_gps':False, \n",
    "               'has_air_conditioning':True, \n",
    "               'automatic_car':False, \n",
    "               'has_getaround_connect':False, \n",
    "               'has_speed_regulator':True, \n",
    "               'winter_tires':False}"
   ]
  },
  {
   "cell_type": "code",
   "execution_count": 6,
   "metadata": {},
   "outputs": [
    {
     "name": "stdout",
     "output_type": "stream",
     "text": [
      "The predicted price is 179.22685972150043\n"
     ]
    }
   ],
   "source": [
    "user_data = pd.DataFrame([test_input])\n",
    "X = transformer.transform(user_data)\n",
    "X_pred = predictor.predict(X)\n",
    "print(f'The predicted price is {X_pred[0]}')"
   ]
  },
  {
   "cell_type": "markdown",
   "metadata": {},
   "source": [
    "### Deploy local API"
   ]
  },
  {
   "cell_type": "code",
   "execution_count": 16,
   "metadata": {},
   "outputs": [
    {
     "name": "stderr",
     "output_type": "stream",
     "text": [
      "C:\\Users\\romai\\AppData\\Local\\Packages\\PythonSoftwareFoundation.Python.3.12_qbz5n2kfra8p0\\LocalCache\\local-packages\\Python312\\site-packages\\pydantic\\_internal\\_fields.py:161: UserWarning: Field \"model_key\" has conflict with protected namespace \"model_\".\n",
      "\n",
      "You may be able to resolve this warning by setting `model_config['protected_namespaces'] = ()`.\n",
      "  warnings.warn(\n"
     ]
    }
   ],
   "source": [
    "class Features(BaseModel):\n",
    "    model_key: str\n",
    "    mileage: Union[int, float]\n",
    "    engine_power: Union[int, float]\n",
    "    fuel: str\n",
    "    paint_color: str\n",
    "    car_type: str\n",
    "    private_parking_available: bool\n",
    "    has_gps: bool\n",
    "    has_air_conditioning: bool\n",
    "    automatic_car: bool\n",
    "    has_getaround_connect: bool\n",
    "    has_speed_regulator: bool\n",
    "    winter_tires: bool"
   ]
  },
  {
   "cell_type": "code",
   "execution_count": 13,
   "metadata": {},
   "outputs": [],
   "source": [
    "app = FastAPI()\n",
    "\n",
    "@app.post('/predict')\n",
    "async def predict(input_data:Features):\n",
    "    ''' Return predicted price according to car features'''\n",
    "    predictor = load('./model/model_reg.pkl')\n",
    "    transformer = load('./model/transformer.pkl')\n",
    "    user_data = pd.DataFrame([input_data])\n",
    "    X = transformer.transform(user_data)\n",
    "    X_pred = predictor.predict(X)\n",
    "    return {'The return predicted price is': X_pred[0]}"
   ]
  }
 ],
 "metadata": {
  "kernelspec": {
   "display_name": "Python 3",
   "language": "python",
   "name": "python3"
  },
  "language_info": {
   "codemirror_mode": {
    "name": "ipython",
    "version": 3
   },
   "file_extension": ".py",
   "mimetype": "text/x-python",
   "name": "python",
   "nbconvert_exporter": "python",
   "pygments_lexer": "ipython3",
   "version": "3.12.6"
  }
 },
 "nbformat": 4,
 "nbformat_minor": 2
}
